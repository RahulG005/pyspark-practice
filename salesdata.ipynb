{
  "nbformat": 4,
  "nbformat_minor": 0,
  "metadata": {
    "colab": {
      "provenance": [],
      "authorship_tag": "ABX9TyP/IV5uSGoTXIbc2QQH1qxx",
      "include_colab_link": true
    },
    "kernelspec": {
      "name": "python3",
      "display_name": "Python 3"
    },
    "language_info": {
      "name": "python"
    }
  },
  "cells": [
    {
      "cell_type": "markdown",
      "metadata": {
        "id": "view-in-github",
        "colab_type": "text"
      },
      "source": [
        "<a href=\"https://colab.research.google.com/github/RahulG005/pyspark-practice/blob/main/salesdata.ipynb\" target=\"_parent\"><img src=\"https://colab.research.google.com/assets/colab-badge.svg\" alt=\"Open In Colab\"/></a>"
      ]
    },
    {
      "cell_type": "code",
      "execution_count": null,
      "metadata": {
        "colab": {
          "base_uri": "https://localhost:8080/"
        },
        "id": "1pjyQRLs9vtA",
        "outputId": "ae457836-832c-4423-cc87-29d85bec9147"
      },
      "outputs": [
        {
          "output_type": "stream",
          "name": "stdout",
          "text": [
            "--2024-09-19 00:58:43--  https://raw.githubusercontent.com/pathwaytipsorg/data-engineer/main/data/csv/sales_data.csv\n",
            "Resolving raw.githubusercontent.com (raw.githubusercontent.com)... 185.199.108.133, 185.199.109.133, 185.199.111.133, ...\n",
            "Connecting to raw.githubusercontent.com (raw.githubusercontent.com)|185.199.108.133|:443... connected.\n",
            "HTTP request sent, awaiting response... 200 OK\n",
            "Length: 570 [text/plain]\n",
            "Saving to: ‘sales_data.csv’\n",
            "\n",
            "\rsales_data.csv        0%[                    ]       0  --.-KB/s               \rsales_data.csv      100%[===================>]     570  --.-KB/s    in 0s      \n",
            "\n",
            "2024-09-19 00:58:43 (21.9 MB/s) - ‘sales_data.csv’ saved [570/570]\n",
            "\n"
          ]
        }
      ],
      "source": [
        "!wget https://raw.githubusercontent.com/pathwaytipsorg/data-engineer/main/data/csv/sales_data.csv"
      ]
    },
    {
      "cell_type": "code",
      "source": [
        "pip install pyspark"
      ],
      "metadata": {
        "colab": {
          "base_uri": "https://localhost:8080/"
        },
        "id": "xqwC9Nkk93X3",
        "outputId": "25c0e900-71ff-4c63-ec9d-2f5243392421"
      },
      "execution_count": null,
      "outputs": [
        {
          "output_type": "stream",
          "name": "stdout",
          "text": [
            "Collecting pyspark\n",
            "  Downloading pyspark-3.5.2.tar.gz (317.3 MB)\n",
            "\u001b[2K     \u001b[90m━━━━━━━━━━━━━━━━━━━━━━━━━━━━━━━━━━━━━━━━\u001b[0m \u001b[32m317.3/317.3 MB\u001b[0m \u001b[31m3.9 MB/s\u001b[0m eta \u001b[36m0:00:00\u001b[0m\n",
            "\u001b[?25h  Preparing metadata (setup.py) ... \u001b[?25l\u001b[?25hdone\n",
            "Requirement already satisfied: py4j==0.10.9.7 in /usr/local/lib/python3.10/dist-packages (from pyspark) (0.10.9.7)\n",
            "Building wheels for collected packages: pyspark\n",
            "  Building wheel for pyspark (setup.py) ... \u001b[?25l\u001b[?25hdone\n",
            "  Created wheel for pyspark: filename=pyspark-3.5.2-py2.py3-none-any.whl size=317812365 sha256=c4c10cdac6816ac25183844a1d06a0dc86bda9289000d931213ad49a0693d0a6\n",
            "  Stored in directory: /root/.cache/pip/wheels/34/34/bd/03944534c44b677cd5859f248090daa9fb27b3c8f8e5f49574\n",
            "Successfully built pyspark\n",
            "Installing collected packages: pyspark\n",
            "Successfully installed pyspark-3.5.2\n"
          ]
        }
      ]
    },
    {
      "cell_type": "code",
      "source": [
        "from pyspark.sql import SparkSession"
      ],
      "metadata": {
        "id": "mmoZfdPO99aV"
      },
      "execution_count": null,
      "outputs": []
    },
    {
      "cell_type": "code",
      "source": [
        "spark = SparkSession.builder.appName('salesdata').getOrCreate()"
      ],
      "metadata": {
        "id": "83j30IPF-WWv"
      },
      "execution_count": null,
      "outputs": []
    },
    {
      "cell_type": "code",
      "source": [
        "df = spark.read.csv('sales_data.csv', sep=',', header=True, inferSchema=True, ignoreLeadingWhiteSpace=True)"
      ],
      "metadata": {
        "id": "bLJQnVVr-o4l"
      },
      "execution_count": null,
      "outputs": []
    },
    {
      "cell_type": "code",
      "source": [
        "df.show()"
      ],
      "metadata": {
        "colab": {
          "base_uri": "https://localhost:8080/"
        },
        "id": "9lwUenSL-mD6",
        "outputId": "a8d84e26-f250-4c76-a721-0ede6b35be44"
      },
      "execution_count": null,
      "outputs": [
        {
          "output_type": "stream",
          "name": "stdout",
          "text": [
            "+-------+----------+----------+---------+-----------+--------+---------+----------+\n",
            "|OrderID|CustomerID| OrderDate|ProductID|ProductName|Quantity|UnitPrice|TotalPrice|\n",
            "+-------+----------+----------+---------+-----------+--------+---------+----------+\n",
            "|      1|      1001|2022-01-01|        1|     Laptop|       2|     1000|      2000|\n",
            "|      2|      1002|2022-01-02|        2| Smartphone|       3|      800|      2400|\n",
            "|      3|      1003|2022-01-03|        1|     Laptop|       1|     1000|      1000|\n",
            "|      4|      1001|2022-01-04|        3| Headphones|       2|       50|       100|\n",
            "|      5|      1002|2022-01-05|        1|     Laptop|       2|     1000|      2000|\n",
            "|      6|      1003|2022-02-01|        2| Smartphone|       4|      800|      3200|\n",
            "|      7|      1001|2022-02-02|        1|     Laptop|       1|     1000|      1000|\n",
            "|      8|      1002|2022-02-03|        3| Headphones|       1|       50|        50|\n",
            "|      9|      1003|2022-02-04|        2| Smartphone|       2|      800|      1600|\n",
            "|     10|      1001|2022-02-05|        1|     Laptop|       3|     1000|      3000|\n",
            "+-------+----------+----------+---------+-----------+--------+---------+----------+\n",
            "\n"
          ]
        }
      ]
    },
    {
      "cell_type": "code",
      "source": [
        "df.select('ProductName', 'UnitPrice').show()"
      ],
      "metadata": {
        "colab": {
          "base_uri": "https://localhost:8080/"
        },
        "id": "97XUuuVsBZMl",
        "outputId": "60265cd4-4258-4efa-f580-977ba9ccd6ad"
      },
      "execution_count": null,
      "outputs": [
        {
          "output_type": "stream",
          "name": "stdout",
          "text": [
            "+-----------+---------+\n",
            "|ProductName|UnitPrice|\n",
            "+-----------+---------+\n",
            "|     Laptop|     1000|\n",
            "| Smartphone|      800|\n",
            "|     Laptop|     1000|\n",
            "| Headphones|       50|\n",
            "|     Laptop|     1000|\n",
            "| Smartphone|      800|\n",
            "|     Laptop|     1000|\n",
            "| Headphones|       50|\n",
            "| Smartphone|      800|\n",
            "|     Laptop|     1000|\n",
            "+-----------+---------+\n",
            "\n"
          ]
        }
      ]
    },
    {
      "cell_type": "code",
      "source": [
        "df.withColumnsRenamed({'ProductName': 'productname', 'UnitPrice': 'unitprice', 'OrderID':'orderid','CustomerID':'customerid',}).show()"
      ],
      "metadata": {
        "colab": {
          "base_uri": "https://localhost:8080/"
        },
        "id": "fjoZ2b81EDkc",
        "outputId": "b1ba4a5e-0132-43f0-b3bc-0a0cbbdb1280"
      },
      "execution_count": null,
      "outputs": [
        {
          "output_type": "stream",
          "name": "stdout",
          "text": [
            "+-------+----------+----------+---------+-----------+--------+---------+----------+\n",
            "|orderid|customerid| OrderDate|ProductID|productname|Quantity|unitprice|TotalPrice|\n",
            "+-------+----------+----------+---------+-----------+--------+---------+----------+\n",
            "|      1|      1001|2022-01-01|        1|     Laptop|       2|     1000|      2000|\n",
            "|      2|      1002|2022-01-02|        2| Smartphone|       3|      800|      2400|\n",
            "|      3|      1003|2022-01-03|        1|     Laptop|       1|     1000|      1000|\n",
            "|      4|      1001|2022-01-04|        3| Headphones|       2|       50|       100|\n",
            "|      5|      1002|2022-01-05|        1|     Laptop|       2|     1000|      2000|\n",
            "|      6|      1003|2022-02-01|        2| Smartphone|       4|      800|      3200|\n",
            "|      7|      1001|2022-02-02|        1|     Laptop|       1|     1000|      1000|\n",
            "|      8|      1002|2022-02-03|        3| Headphones|       1|       50|        50|\n",
            "|      9|      1003|2022-02-04|        2| Smartphone|       2|      800|      1600|\n",
            "|     10|      1001|2022-02-05|        1|     Laptop|       3|     1000|      3000|\n",
            "+-------+----------+----------+---------+-----------+--------+---------+----------+\n",
            "\n"
          ]
        }
      ]
    }
  ]
}