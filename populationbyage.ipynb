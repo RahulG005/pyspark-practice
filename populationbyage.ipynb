{
  "cells": [
    {
      "cell_type": "markdown",
      "metadata": {
        "id": "view-in-github",
        "colab_type": "text"
      },
      "source": [
        "<a href=\"https://colab.research.google.com/github/RahulG005/pyspark-practice/blob/main/populationbyage.ipynb\" target=\"_parent\"><img src=\"https://colab.research.google.com/assets/colab-badge.svg\" alt=\"Open In Colab\"/></a>"
      ]
    },
    {
      "cell_type": "code",
      "execution_count": 1,
      "metadata": {
        "colab": {
          "base_uri": "https://localhost:8080/"
        },
        "id": "bW87uMj78Hky",
        "outputId": "ebf96311-36af-422b-ef6c-29efc6618304"
      },
      "outputs": [
        {
          "output_type": "stream",
          "name": "stdout",
          "text": [
            "--2024-09-26 00:01:20--  https://raw.githubusercontent.com/pathwaytipsorg/data-engineer/main/data/population_by_age.tsv\n",
            "Resolving raw.githubusercontent.com (raw.githubusercontent.com)... 185.199.111.133, 185.199.109.133, 185.199.108.133, ...\n",
            "Connecting to raw.githubusercontent.com (raw.githubusercontent.com)|185.199.111.133|:443... connected.\n",
            "HTTP request sent, awaiting response... 200 OK\n",
            "Length: 26070 (25K) [text/plain]\n",
            "Saving to: ‘population_by_age.tsv’\n",
            "\n",
            "population_by_age.t 100%[===================>]  25.46K  --.-KB/s    in 0s      \n",
            "\n",
            "2024-09-26 00:01:21 (70.4 MB/s) - ‘population_by_age.tsv’ saved [26070/26070]\n",
            "\n"
          ]
        }
      ],
      "source": [
        "!wget https://raw.githubusercontent.com/pathwaytipsorg/data-engineer/main/data/population_by_age.tsv"
      ]
    },
    {
      "cell_type": "code",
      "execution_count": 2,
      "metadata": {
        "colab": {
          "base_uri": "https://localhost:8080/"
        },
        "id": "tPD9Sef78UZe",
        "outputId": "f5ee6f3f-596e-4390-b563-a347e9abb4e7"
      },
      "outputs": [
        {
          "output_type": "stream",
          "name": "stdout",
          "text": [
            "Collecting pyspark\n",
            "  Downloading pyspark-3.5.3.tar.gz (317.3 MB)\n",
            "\u001b[2K     \u001b[90m━━━━━━━━━━━━━━━━━━━━━━━━━━━━━━━━━━━━━━━━\u001b[0m \u001b[32m317.3/317.3 MB\u001b[0m \u001b[31m4.0 MB/s\u001b[0m eta \u001b[36m0:00:00\u001b[0m\n",
            "\u001b[?25h  Preparing metadata (setup.py) ... \u001b[?25l\u001b[?25hdone\n",
            "Requirement already satisfied: py4j==0.10.9.7 in /usr/local/lib/python3.10/dist-packages (from pyspark) (0.10.9.7)\n",
            "Building wheels for collected packages: pyspark\n",
            "  Building wheel for pyspark (setup.py) ... \u001b[?25l\u001b[?25hdone\n",
            "  Created wheel for pyspark: filename=pyspark-3.5.3-py2.py3-none-any.whl size=317840625 sha256=ce9b7492497ea3c902ce33cf2955d2cfd0649a8b9f99201593c7c3d863cd0760\n",
            "  Stored in directory: /root/.cache/pip/wheels/1b/3a/92/28b93e2fbfdbb07509ca4d6f50c5e407f48dce4ddbda69a4ab\n",
            "Successfully built pyspark\n",
            "Installing collected packages: pyspark\n",
            "Successfully installed pyspark-3.5.3\n"
          ]
        }
      ],
      "source": [
        "pip install pyspark"
      ]
    },
    {
      "cell_type": "code",
      "execution_count": 3,
      "metadata": {
        "id": "5GAhPhhs8gX3"
      },
      "outputs": [],
      "source": [
        "from pyspark.sql import SparkSession"
      ]
    },
    {
      "cell_type": "code",
      "execution_count": 4,
      "metadata": {
        "id": "ehDl6nBT85-U"
      },
      "outputs": [],
      "source": [
        "spark = SparkSession.builder.appName('Population_by_age').getOrCreate()"
      ]
    },
    {
      "cell_type": "code",
      "execution_count": 5,
      "metadata": {
        "id": "QvILJqhi9A-S"
      },
      "outputs": [],
      "source": [
        "df = spark.read.csv('population_by_age.tsv', sep='\\t', header=True, inferSchema=True)"
      ]
    },
    {
      "cell_type": "code",
      "execution_count": 6,
      "metadata": {
        "colab": {
          "base_uri": "https://localhost:8080/"
        },
        "id": "ZirtwyrP9fj_",
        "outputId": "b1a81f91-59d7-4111-a9f5-b0df45f83627"
      },
      "outputs": [
        {
          "output_type": "stream",
          "name": "stdout",
          "text": [
            "+------------------+------+-----+------+------+------+-----+------+------+-----+------+------+------+\n",
            "| indic_de,geo\\time| 2008 |2009 | 2010 | 2011 | 2012 |2013 | 2014 | 2015 |2016 | 2017 | 2018 | 2019 |\n",
            "+------------------+------+-----+------+------+------+-----+------+------+-----+------+------+------+\n",
            "|       PC_Y0_14,AD| 14.6 |14.5 | 14.5 | 15.5 | 15.5 |15.5 |    : |    : |   : |    : |    : | 13.9 |\n",
            "|       PC_Y0_14,AL| 24.1 |23.3 | 22.5 | 21.6 | 20.7 |20.1 | 19.6 | 19.0 |18.5 | 18.2 | 17.7 | 17.2 |\n",
            "|       PC_Y0_14,AM| 19.0 |18.6 | 18.3 |    : |    : |   : |    : | 19.4 |19.6 | 20.0 | 20.2 | 20.2 |\n",
            "|       PC_Y0_14,AT| 15.4 |15.1 | 14.9 | 14.7 | 14.6 |14.4 | 14.3 | 14.3 |14.3 | 14.4 | 14.4 | 14.4 |\n",
            "|       PC_Y0_14,AZ| 23.2 |22.6 | 22.6 | 22.3 | 22.2 |22.3 | 22.4 | 22.4 |22.5 | 22.6 | 22.6 | 22.4 |\n",
            "|       PC_Y0_14,BE| 16.9 |16.9 | 16.9 |17.0 b| 17.0 |17.0 | 17.0 | 17.0 |17.0 | 17.0 | 17.0 | 16.9 |\n",
            "|       PC_Y0_14,BG| 13.1 |13.1 | 13.2 | 13.2 | 13.4 |13.6 | 13.7 | 13.9 |14.0 | 14.1 | 14.2 | 14.4 |\n",
            "|       PC_Y0_14,BY| 14.7 |14.6 |    : | 14.9 | 15.1 |15.4 | 15.7 | 16.0 |16.3 | 16.6 | 16.8 | 16.9 |\n",
            "|       PC_Y0_14,CH| 15.5 |15.3 | 15.2 |15.1 b| 15.0 |14.9 | 14.9 | 14.9 |14.9 | 14.9 | 15.0 | 15.0 |\n",
            "|       PC_Y0_14,CY| 18.2 |17.7 | 17.2 | 16.8 | 16.5 |16.4 | 16.3 | 16.4 |16.4 | 16.3 | 16.2 | 16.1 |\n",
            "|       PC_Y0_14,CZ| 14.2 |14.2 | 14.3 | 14.5 | 14.7 |14.8 | 15.0 | 15.2 |15.4 | 15.6 | 15.7 | 15.9 |\n",
            "|       PC_Y0_14,DE| 13.7 |13.6 | 13.5 |13.6 b| 13.4 |13.3 |13.2 b| 13.2 |13.2 | 13.4 | 13.5 | 13.6 |\n",
            "|       PC_Y0_14,DK| 18.4 |18.3 | 18.1 | 17.9 | 17.7 |17.4 | 17.2 | 17.0 |16.8 | 16.7 | 16.6 | 16.5 |\n",
            "|     PC_Y0_14,EA18| 15.4 |15.4 | 15.4 |15.4 b|15.4 b|15.3 |15.3 b|15.2 b|15.1 |15.1 b|15.0 p|15.0 p|\n",
            "|     PC_Y0_14,EA19| 15.5 |15.5 | 15.4 |15.5 b|15.4 b|15.4 |15.3 b|15.3 b|15.2 |15.2 b|15.1 p|15.0 p|\n",
            "|       PC_Y0_14,EE| 14.8 |14.9 | 15.1 | 15.3 | 15.5 |15.7 | 15.8 |15.9 b|16.1 | 16.2 | 16.3 | 16.4 |\n",
            "|       PC_Y0_14,EL| 14.6 |14.6 | 14.6 | 14.6 | 14.7 |14.7 | 14.6 | 14.5 |14.4 | 14.4 | 14.4 | 14.3 |\n",
            "|       PC_Y0_14,ES| 14.6 |14.8 | 14.9 | 15.0 | 15.1 |15.2 | 15.2 | 15.2 |15.1 | 15.1 | 15.0 | 14.8 |\n",
            "|PC_Y0_14,EU27_2007|15.8 b|15.7 |15.7 b|15.7 b|15.7 b|15.7 |15.6 b|15.6 b|15.6 |15.6 b|15.6 p|15.5 p|\n",
            "|PC_Y0_14,EU27_2020|15.5 b|15.4 |15.4 b|15.4 b|15.4 b|15.4 |15.3 b|15.3 b|15.3 |15.2 b|15.2 p|15.2 p|\n",
            "+------------------+------+-----+------+------+------+-----+------+------+-----+------+------+------+\n",
            "only showing top 20 rows\n",
            "\n"
          ]
        }
      ],
      "source": [
        "df.show()"
      ]
    },
    {
      "cell_type": "code",
      "source": [
        "new_column_names = [df.columns[0]] + [f\"year_{col_name.strip()}\" for col_name in df.columns[1:]]\n"
      ],
      "metadata": {
        "id": "1M5V6BEGuiHE"
      },
      "execution_count": 7,
      "outputs": []
    },
    {
      "cell_type": "code",
      "source": [
        "print(new_column_names)"
      ],
      "metadata": {
        "colab": {
          "base_uri": "https://localhost:8080/"
        },
        "id": "uJQB90Hgvxwl",
        "outputId": "3bb51e8b-f763-4052-b97a-306d57be4667"
      },
      "execution_count": 8,
      "outputs": [
        {
          "output_type": "stream",
          "name": "stdout",
          "text": [
            "['indic_de,geo\\\\time', 'year_2008', 'year_2009', 'year_2010', 'year_2011', 'year_2012', 'year_2013', 'year_2014', 'year_2015', 'year_2016', 'year_2017', 'year_2018', 'year_2019']\n"
          ]
        }
      ]
    },
    {
      "cell_type": "code",
      "source": [
        "df = df.toDF(*new_column_names)"
      ],
      "metadata": {
        "id": "Y713xjMPwj3d"
      },
      "execution_count": 9,
      "outputs": []
    },
    {
      "cell_type": "code",
      "source": [
        "df.show()"
      ],
      "metadata": {
        "colab": {
          "base_uri": "https://localhost:8080/"
        },
        "id": "9qxk6x4PxF58",
        "outputId": "deb70c17-3977-49d4-c216-82e0e239cd30"
      },
      "execution_count": 10,
      "outputs": [
        {
          "output_type": "stream",
          "name": "stdout",
          "text": [
            "+------------------+---------+---------+---------+---------+---------+---------+---------+---------+---------+---------+---------+---------+\n",
            "| indic_de,geo\\time|year_2008|year_2009|year_2010|year_2011|year_2012|year_2013|year_2014|year_2015|year_2016|year_2017|year_2018|year_2019|\n",
            "+------------------+---------+---------+---------+---------+---------+---------+---------+---------+---------+---------+---------+---------+\n",
            "|       PC_Y0_14,AD|    14.6 |    14.5 |    14.5 |    15.5 |    15.5 |    15.5 |       : |       : |       : |       : |       : |    13.9 |\n",
            "|       PC_Y0_14,AL|    24.1 |    23.3 |    22.5 |    21.6 |    20.7 |    20.1 |    19.6 |    19.0 |    18.5 |    18.2 |    17.7 |    17.2 |\n",
            "|       PC_Y0_14,AM|    19.0 |    18.6 |    18.3 |       : |       : |       : |       : |    19.4 |    19.6 |    20.0 |    20.2 |    20.2 |\n",
            "|       PC_Y0_14,AT|    15.4 |    15.1 |    14.9 |    14.7 |    14.6 |    14.4 |    14.3 |    14.3 |    14.3 |    14.4 |    14.4 |    14.4 |\n",
            "|       PC_Y0_14,AZ|    23.2 |    22.6 |    22.6 |    22.3 |    22.2 |    22.3 |    22.4 |    22.4 |    22.5 |    22.6 |    22.6 |    22.4 |\n",
            "|       PC_Y0_14,BE|    16.9 |    16.9 |    16.9 |   17.0 b|    17.0 |    17.0 |    17.0 |    17.0 |    17.0 |    17.0 |    17.0 |    16.9 |\n",
            "|       PC_Y0_14,BG|    13.1 |    13.1 |    13.2 |    13.2 |    13.4 |    13.6 |    13.7 |    13.9 |    14.0 |    14.1 |    14.2 |    14.4 |\n",
            "|       PC_Y0_14,BY|    14.7 |    14.6 |       : |    14.9 |    15.1 |    15.4 |    15.7 |    16.0 |    16.3 |    16.6 |    16.8 |    16.9 |\n",
            "|       PC_Y0_14,CH|    15.5 |    15.3 |    15.2 |   15.1 b|    15.0 |    14.9 |    14.9 |    14.9 |    14.9 |    14.9 |    15.0 |    15.0 |\n",
            "|       PC_Y0_14,CY|    18.2 |    17.7 |    17.2 |    16.8 |    16.5 |    16.4 |    16.3 |    16.4 |    16.4 |    16.3 |    16.2 |    16.1 |\n",
            "|       PC_Y0_14,CZ|    14.2 |    14.2 |    14.3 |    14.5 |    14.7 |    14.8 |    15.0 |    15.2 |    15.4 |    15.6 |    15.7 |    15.9 |\n",
            "|       PC_Y0_14,DE|    13.7 |    13.6 |    13.5 |   13.6 b|    13.4 |    13.3 |   13.2 b|    13.2 |    13.2 |    13.4 |    13.5 |    13.6 |\n",
            "|       PC_Y0_14,DK|    18.4 |    18.3 |    18.1 |    17.9 |    17.7 |    17.4 |    17.2 |    17.0 |    16.8 |    16.7 |    16.6 |    16.5 |\n",
            "|     PC_Y0_14,EA18|    15.4 |    15.4 |    15.4 |   15.4 b|   15.4 b|    15.3 |   15.3 b|   15.2 b|    15.1 |   15.1 b|   15.0 p|   15.0 p|\n",
            "|     PC_Y0_14,EA19|    15.5 |    15.5 |    15.4 |   15.5 b|   15.4 b|    15.4 |   15.3 b|   15.3 b|    15.2 |   15.2 b|   15.1 p|   15.0 p|\n",
            "|       PC_Y0_14,EE|    14.8 |    14.9 |    15.1 |    15.3 |    15.5 |    15.7 |    15.8 |   15.9 b|    16.1 |    16.2 |    16.3 |    16.4 |\n",
            "|       PC_Y0_14,EL|    14.6 |    14.6 |    14.6 |    14.6 |    14.7 |    14.7 |    14.6 |    14.5 |    14.4 |    14.4 |    14.4 |    14.3 |\n",
            "|       PC_Y0_14,ES|    14.6 |    14.8 |    14.9 |    15.0 |    15.1 |    15.2 |    15.2 |    15.2 |    15.1 |    15.1 |    15.0 |    14.8 |\n",
            "|PC_Y0_14,EU27_2007|   15.8 b|    15.7 |   15.7 b|   15.7 b|   15.7 b|    15.7 |   15.6 b|   15.6 b|    15.6 |   15.6 b|   15.6 p|   15.5 p|\n",
            "|PC_Y0_14,EU27_2020|   15.5 b|    15.4 |   15.4 b|   15.4 b|   15.4 b|    15.4 |   15.3 b|   15.3 b|    15.3 |   15.2 b|   15.2 p|   15.2 p|\n",
            "+------------------+---------+---------+---------+---------+---------+---------+---------+---------+---------+---------+---------+---------+\n",
            "only showing top 20 rows\n",
            "\n"
          ]
        }
      ]
    },
    {
      "cell_type": "code",
      "source": [
        "df = df.withColumnRenamed('indic_de,geo\\\\time', 'indice geotime') #Python interprets \\t as a tab character, causing an error."
      ],
      "metadata": {
        "id": "feltpDMJo3-h"
      },
      "execution_count": 15,
      "outputs": []
    },
    {
      "cell_type": "code",
      "source": [
        "df.show()"
      ],
      "metadata": {
        "colab": {
          "base_uri": "https://localhost:8080/"
        },
        "id": "PmwvHQONpF6I",
        "outputId": "c4bf5990-ae42-4bd4-8020-70b299688591"
      },
      "execution_count": 16,
      "outputs": [
        {
          "output_type": "stream",
          "name": "stdout",
          "text": [
            "+------------------+---------+---------+---------+---------+---------+---------+---------+---------+---------+---------+---------+---------+\n",
            "|    indice geotime|year_2008|year_2009|year_2010|year_2011|year_2012|year_2013|year_2014|year_2015|year_2016|year_2017|year_2018|year_2019|\n",
            "+------------------+---------+---------+---------+---------+---------+---------+---------+---------+---------+---------+---------+---------+\n",
            "|       PC_Y0_14,AD|    14.6 |    14.5 |    14.5 |    15.5 |    15.5 |    15.5 |       : |       : |       : |       : |       : |    13.9 |\n",
            "|       PC_Y0_14,AL|    24.1 |    23.3 |    22.5 |    21.6 |    20.7 |    20.1 |    19.6 |    19.0 |    18.5 |    18.2 |    17.7 |    17.2 |\n",
            "|       PC_Y0_14,AM|    19.0 |    18.6 |    18.3 |       : |       : |       : |       : |    19.4 |    19.6 |    20.0 |    20.2 |    20.2 |\n",
            "|       PC_Y0_14,AT|    15.4 |    15.1 |    14.9 |    14.7 |    14.6 |    14.4 |    14.3 |    14.3 |    14.3 |    14.4 |    14.4 |    14.4 |\n",
            "|       PC_Y0_14,AZ|    23.2 |    22.6 |    22.6 |    22.3 |    22.2 |    22.3 |    22.4 |    22.4 |    22.5 |    22.6 |    22.6 |    22.4 |\n",
            "|       PC_Y0_14,BE|    16.9 |    16.9 |    16.9 |   17.0 b|    17.0 |    17.0 |    17.0 |    17.0 |    17.0 |    17.0 |    17.0 |    16.9 |\n",
            "|       PC_Y0_14,BG|    13.1 |    13.1 |    13.2 |    13.2 |    13.4 |    13.6 |    13.7 |    13.9 |    14.0 |    14.1 |    14.2 |    14.4 |\n",
            "|       PC_Y0_14,BY|    14.7 |    14.6 |       : |    14.9 |    15.1 |    15.4 |    15.7 |    16.0 |    16.3 |    16.6 |    16.8 |    16.9 |\n",
            "|       PC_Y0_14,CH|    15.5 |    15.3 |    15.2 |   15.1 b|    15.0 |    14.9 |    14.9 |    14.9 |    14.9 |    14.9 |    15.0 |    15.0 |\n",
            "|       PC_Y0_14,CY|    18.2 |    17.7 |    17.2 |    16.8 |    16.5 |    16.4 |    16.3 |    16.4 |    16.4 |    16.3 |    16.2 |    16.1 |\n",
            "|       PC_Y0_14,CZ|    14.2 |    14.2 |    14.3 |    14.5 |    14.7 |    14.8 |    15.0 |    15.2 |    15.4 |    15.6 |    15.7 |    15.9 |\n",
            "|       PC_Y0_14,DE|    13.7 |    13.6 |    13.5 |   13.6 b|    13.4 |    13.3 |   13.2 b|    13.2 |    13.2 |    13.4 |    13.5 |    13.6 |\n",
            "|       PC_Y0_14,DK|    18.4 |    18.3 |    18.1 |    17.9 |    17.7 |    17.4 |    17.2 |    17.0 |    16.8 |    16.7 |    16.6 |    16.5 |\n",
            "|     PC_Y0_14,EA18|    15.4 |    15.4 |    15.4 |   15.4 b|   15.4 b|    15.3 |   15.3 b|   15.2 b|    15.1 |   15.1 b|   15.0 p|   15.0 p|\n",
            "|     PC_Y0_14,EA19|    15.5 |    15.5 |    15.4 |   15.5 b|   15.4 b|    15.4 |   15.3 b|   15.3 b|    15.2 |   15.2 b|   15.1 p|   15.0 p|\n",
            "|       PC_Y0_14,EE|    14.8 |    14.9 |    15.1 |    15.3 |    15.5 |    15.7 |    15.8 |   15.9 b|    16.1 |    16.2 |    16.3 |    16.4 |\n",
            "|       PC_Y0_14,EL|    14.6 |    14.6 |    14.6 |    14.6 |    14.7 |    14.7 |    14.6 |    14.5 |    14.4 |    14.4 |    14.4 |    14.3 |\n",
            "|       PC_Y0_14,ES|    14.6 |    14.8 |    14.9 |    15.0 |    15.1 |    15.2 |    15.2 |    15.2 |    15.1 |    15.1 |    15.0 |    14.8 |\n",
            "|PC_Y0_14,EU27_2007|   15.8 b|    15.7 |   15.7 b|   15.7 b|   15.7 b|    15.7 |   15.6 b|   15.6 b|    15.6 |   15.6 b|   15.6 p|   15.5 p|\n",
            "|PC_Y0_14,EU27_2020|   15.5 b|    15.4 |   15.4 b|   15.4 b|   15.4 b|    15.4 |   15.3 b|   15.3 b|    15.3 |   15.2 b|   15.2 p|   15.2 p|\n",
            "+------------------+---------+---------+---------+---------+---------+---------+---------+---------+---------+---------+---------+---------+\n",
            "only showing top 20 rows\n",
            "\n"
          ]
        }
      ]
    }
  ],
  "metadata": {
    "colab": {
      "provenance": [],
      "authorship_tag": "ABX9TyOqFFadLoZj8bulEsXoaZme",
      "include_colab_link": true
    },
    "kernelspec": {
      "display_name": "Python 3",
      "name": "python3"
    },
    "language_info": {
      "name": "python"
    }
  },
  "nbformat": 4,
  "nbformat_minor": 0
}